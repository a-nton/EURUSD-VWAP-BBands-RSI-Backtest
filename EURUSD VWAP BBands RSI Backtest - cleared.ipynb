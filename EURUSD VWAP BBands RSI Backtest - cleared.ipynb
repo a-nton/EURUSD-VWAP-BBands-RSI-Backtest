{
 "cells": [
  {
   "cell_type": "code",
   "execution_count": null,
   "id": "33303e37",
   "metadata": {},
   "outputs": [],
   "source": [
    "import pandas as pd\n",
    "#import csv data\n",
    "df=pd.read_csv(\"EURUSD_Candlestick_5_M_ASK_30.09.2019-30.09.2022.csv\")\n",
    "df"
   ]
  },
  {
   "cell_type": "code",
   "execution_count": null,
   "id": "c3f880ce",
   "metadata": {},
   "outputs": [],
   "source": [
    "#remove milliseconds and change to datetime format, because Pandas Technical Analysis requires it\n",
    "df['Gmt time']=pd.to_datetime(df['Gmt time'],format='%d.%m.%Y %H:%M:%S')\n",
    "#Set the time as the index of the dataframe, also for pandas_ta\n",
    "df.set_index(\"Gmt time\", inplace=True)\n",
    "#remove days where there was no change in price, if any\n",
    "df=df[df.High!=df.Low]\n",
    "#check the length of the dataframe after that, removes 11 days in this case\n",
    "len(df)"
   ]
  },
  {
   "cell_type": "code",
   "execution_count": null,
   "id": "d3eb031c",
   "metadata": {},
   "outputs": [],
   "source": [
    "import pandas_ta as ta\n",
    "#calculate VWAP, RSI and Bollinger Bands with pandas_ta, variables chosen by preference\n",
    "df[\"VWAP\"]=ta.vwap(df.High, df.Low, df.Close, df.Volume)\n",
    "df['RSI']=ta.rsi(df.Close, length=16)\n",
    "my_bbands = ta.bbands(df.Close, length=14, std=2.0)\n",
    "df=df.join(my_bbands)"
   ]
  },
  {
   "cell_type": "code",
   "execution_count": null,
   "id": "6d2cc33a",
   "metadata": {},
   "outputs": [],
   "source": [
    "#create a list with as many zeroes as there are rows/days in the dataframe\n",
    "VWAPsignal = [0]*len(df)\n",
    "#we're going to look for 15 candles above VWAP as a first-order condition for trading\n",
    "backcandles = 15\n",
    "\n",
    "for row in range(backcandles, len(df)):\n",
    "    #uptrend and downtrend = 1 unless conditions are met\n",
    "    upt = 1\n",
    "    dnt = 1\n",
    "    for i in range(row-backcandles, row+1):\n",
    "        if max(df.Open[i], df.Close[i])>=df.VWAP[i]:\n",
    "            dnt=0\n",
    "        if min(df.Open[i], df.Close[i])<=df.VWAP[i]:\n",
    "            upt=0\n",
    "    #if both are 1 as defined in the beginning, no trading happens\n",
    "    if upt==1 and dnt==1:\n",
    "        VWAPsignal[row]=3\n",
    "    #uptrend => long\n",
    "    elif upt==1:\n",
    "        VWAPsignal[row]=2\n",
    "    #downtrend => short\n",
    "    elif dnt==1:\n",
    "        VWAPsignal[row]=1\n",
    "\n",
    "#add to dataframe\n",
    "df['VWAPSignal'] = VWAPsignal"
   ]
  },
  {
   "cell_type": "code",
   "execution_count": null,
   "id": "9a9981d6",
   "metadata": {},
   "outputs": [],
   "source": [
    "#checking if candles close above/below the bband and RSI < 45 or RSI > 55. Again, 2 is long, 1 is short\n",
    "def TotalSignal(l):\n",
    "    if (df.VWAPSignal[l]==2\n",
    "        and df.Close[l]<=df['BBL_14_2.0'][l]\n",
    "        and df.RSI[l]<45):\n",
    "            return 2\n",
    "    if (df.VWAPSignal[l]==1\n",
    "        and df.Close[l]>=df['BBU_14_2.0'][l]\n",
    "        and df.RSI[l]>55):\n",
    "            return 1\n",
    "    return 0\n",
    "\n",
    "#Same as with the VWAP signal, create empty list with the same length in rows as the dataframe\n",
    "TotSignal = [0]*len(df)\n",
    "for row in range(backcandles, len(df)): #careful backcandles used previous cell\n",
    "    TotSignal[row] = TotalSignal(row)\n",
    "#add to dataframe\n",
    "df['TotalSignal'] = TotSignal"
   ]
  },
  {
   "cell_type": "code",
   "execution_count": null,
   "id": "65435b94",
   "metadata": {},
   "outputs": [],
   "source": [
    "#make sure that we have equal values for all parameters, number = trades\n",
    "df[df.TotalSignal!=0].count()"
   ]
  },
  {
   "cell_type": "code",
   "execution_count": null,
   "id": "e7080a9a",
   "metadata": {},
   "outputs": [],
   "source": [
    "import numpy as np\n",
    "#add points below or above the candles for when there are trading signals\n",
    "def pointposbreak(x):\n",
    "    if x['TotalSignal']==1:\n",
    "        return x['High']+1e-4\n",
    "    elif x['TotalSignal']==2:\n",
    "        return x['Low']-1e-4\n",
    "    else:\n",
    "        return np.nan\n",
    "\n",
    "#store the positions of the points\n",
    "df['pointposbreak'] = df.apply(lambda row: pointposbreak(row), axis=1)"
   ]
  },
  {
   "cell_type": "code",
   "execution_count": null,
   "id": "0d0e2a76",
   "metadata": {},
   "outputs": [],
   "source": [
    "import plotly.graph_objects as go\n",
    "from plotly.subplots import make_subplots\n",
    "from datetime import datetime\n",
    "#create new dataframe for the purpose of the graph and to limit its length\n",
    "st=10400\n",
    "dfpl = df[st:st+350]\n",
    "dfpl.reset_index(inplace=True)\n",
    "#plot candles, a VWAP line and both BBands\n",
    "fig = go.Figure(data=[go.Candlestick(x=dfpl.index,\n",
    "                open=dfpl['Open'],\n",
    "                high=dfpl['High'],\n",
    "                low=dfpl['Low'],\n",
    "                close=dfpl['Close']),\n",
    "                go.Scatter(x=dfpl.index, y=dfpl.VWAP, \n",
    "                           line=dict(color='blue', width=1), \n",
    "                           name=\"VWAP\"), \n",
    "                go.Scatter(x=dfpl.index, y=dfpl['BBL_14_2.0'], \n",
    "                           line=dict(color='green', width=1), \n",
    "                           name=\"BBL\"),\n",
    "                go.Scatter(x=dfpl.index, y=dfpl['BBU_14_2.0'], \n",
    "                           line=dict(color='green', width=1), \n",
    "                           name=\"BBU\")])\n",
    "\n",
    "#add signals as dots\n",
    "fig.add_scatter(x=dfpl.index, y=dfpl['pointposbreak'], mode=\"markers\",\n",
    "                marker=dict(size=10, color=\"MediumPurple\"),\n",
    "                name=\"Signal\")\n",
    "fig.show()"
   ]
  },
  {
   "cell_type": "code",
   "execution_count": null,
   "id": "6083727a",
   "metadata": {},
   "outputs": [],
   "source": [
    "#define length of the dataframe for the purpose of backtesting\n",
    "dfpl = df[:75000].copy()\n",
    "import pandas_ta as ta\n",
    "\n",
    "#calculate ATR with pandas_ta, n=7 chosen arbitrarily\n",
    "dfpl['ATR']=ta.atr(dfpl.High, dfpl.Low, dfpl.Close, length=7)\n",
    "\n",
    "def SIGNAL():\n",
    "    return dfpl.TotalSignal"
   ]
  },
  {
   "cell_type": "code",
   "execution_count": null,
   "id": "81219ec4",
   "metadata": {},
   "outputs": [],
   "source": [
    "from backtesting import Strategy\n",
    "from backtesting import Backtest\n",
    "\n",
    "class MyStrat(Strategy):\n",
    "    initsize = 0.99\n",
    "    mysize = initsize\n",
    "    def init(self):\n",
    "        super().init()\n",
    "        self.signal1 = self.I(SIGNAL)\n",
    "\n",
    "    def next(self):\n",
    "        super().next()\n",
    "        #stop-loss at 1.2(coefficient)*ATR\n",
    "        slatr = 1.2*self.data.ATR[-1]\n",
    "        #take-profit Profit/Loss ratio (coefficient)\n",
    "        TPSLRatio = 1.5\n",
    "\n",
    "        #exit trade if RSI gets too big or too small, even if profit is not reached\n",
    "        if len(self.trades)>0:\n",
    "            if self.trades[-1].is_long and self.data.RSI[-1]>=90:\n",
    "                self.trades[-1].close()\n",
    "            elif self.trades[-1].is_short and self.data.RSI[-1]<=10:\n",
    "                self.trades[-1].close()\n",
    "\n",
    "        #Define stop-loss and take-profit conditions for the short and long case\n",
    "        if self.signal1==2 and len(self.trades)==0:\n",
    "            sl1 = self.data.Close[-1] - slatr\n",
    "            tp1 = self.data.Close[-1] + slatr*TPSLRatio\n",
    "            self.buy(sl=sl1, tp=tp1, size=self.mysize)\n",
    "        \n",
    "        elif self.signal1==1 and len(self.trades)==0:         \n",
    "            sl1 = self.data.Close[-1] + slatr\n",
    "            tp1 = self.data.Close[-1] - slatr*TPSLRatio\n",
    "            self.sell(sl=sl1, tp=tp1, size=self.mysize)\n",
    "\n",
    "#start with $100 cash and 1/10 leverage, no commission\n",
    "bt = Backtest(dfpl, MyStrat, cash=100, margin=1/10, commission=0.00)\n",
    "stat = bt.run()\n",
    "stat"
   ]
  },
  {
   "cell_type": "code",
   "execution_count": null,
   "id": "16396f6c",
   "metadata": {
    "scrolled": true
   },
   "outputs": [],
   "source": [
    "#display the cumulative returns, profit/loss per trade\n",
    "bt.plot(show_legend=False)"
   ]
  },
  {
   "cell_type": "code",
   "execution_count": null,
   "id": "1efd22a2",
   "metadata": {},
   "outputs": [],
   "source": []
  }
 ],
 "metadata": {
  "kernelspec": {
   "display_name": "Python 3 (ipykernel)",
   "language": "python",
   "name": "python3"
  },
  "language_info": {
   "codemirror_mode": {
    "name": "ipython",
    "version": 3
   },
   "file_extension": ".py",
   "mimetype": "text/x-python",
   "name": "python",
   "nbconvert_exporter": "python",
   "pygments_lexer": "ipython3",
   "version": "3.10.4"
  }
 },
 "nbformat": 4,
 "nbformat_minor": 5
}
